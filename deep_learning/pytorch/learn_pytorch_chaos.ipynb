{
 "cells": [
  {
   "cell_type": "code",
   "execution_count": null,
   "id": "254b2164",
   "metadata": {},
   "outputs": [],
   "source": [
    "import numpy as np\n",
    "\n",
    "# 创建两个数组\n",
    "array1 = np.array([1, 2, 3])\n",
    "array2 = np.array([4, 5, 6])\n",
    "\n",
    "# 使用 np.vstack 垂直堆叠这两个数组\n",
    "vresult = np.vstack((array1, array2))\n",
    "\n",
    "print(vresult)"
   ]
  },
  {
   "cell_type": "code",
   "execution_count": null,
   "id": "9d6bf734",
   "metadata": {},
   "outputs": [],
   "source": [
    "# 使用 np.hstack 水平堆叠两个数组\n",
    "hresult = np.hstack((array1, array2))\n",
    "\n",
    "print(hresult)"
   ]
  },
  {
   "cell_type": "code",
   "execution_count": null,
   "id": "b1657f26",
   "metadata": {},
   "outputs": [],
   "source": [
    "xs = [1, 2, 3, 4, 5, 6, 7, 8, 9, 10]\n",
    "ys = [11, 12, 13, 14, 15, 16, 17, 18, 19, 20]\n",
    "zs = [21, 22, 23, 24, 25, 26, 27, 28, 29, 30]\n",
    "\n",
    "print(np.vstack([xs, ys, zs]))"
   ]
  },
  {
   "cell_type": "code",
   "execution_count": null,
   "id": "1eb385ed",
   "metadata": {},
   "outputs": [],
   "source": [
    "# 矩阵转置\n",
    "print(np.vstack([xs, ys, zs]).T)"
   ]
  },
  {
   "cell_type": "code",
   "execution_count": null,
   "id": "85dd8997",
   "metadata": {},
   "outputs": [],
   "source": [
    "m = [[ 1, 11, 21],\n",
    "     [ 2, 12, 22],\n",
    "     [ 3, 13, 23],\n",
    "     [ 4, 14, 24],\n",
    "     [ 5, 15, 25],\n",
    "     [ 6, 16, 26],\n",
    "     [ 7, 17, 27],\n",
    "     [ 8, 18, 28],\n",
    "     [ 9, 19, 29],\n",
    "     [10, 20, 30]]\n",
    "\n",
    "# np.asarray 的用法\n",
    "a = np.asarray(m)\n",
    "print(a)"
   ]
  },
  {
   "cell_type": "code",
   "execution_count": null,
   "id": "796159e4",
   "metadata": {},
   "outputs": [],
   "source": [
    "# 张量的形状\n",
    "print(a.shape)\n",
    "print(type(a))"
   ]
  },
  {
   "cell_type": "code",
   "execution_count": null,
   "id": "71656979",
   "metadata": {},
   "outputs": [],
   "source": [
    "# np.array 和 np.asarray 效果相同\n",
    "a = np.array(m)\n",
    "print(a.shape)\n",
    "print(type(a))"
   ]
  },
  {
   "cell_type": "code",
   "execution_count": null,
   "id": "4246a0a6",
   "metadata": {},
   "outputs": [],
   "source": [
    "import torch\n",
    "\n",
    "# 使用列表或嵌套列表创建张量\n",
    "tensor_from_list = torch.tensor([1, 2, 3, 4])\n",
    "tensor_from_nested_list = torch.tensor([[1, 2], [3, 4]])\n",
    "\n",
    "print(tensor_from_list)\n",
    "print(tensor_from_nested_list)"
   ]
  },
  {
   "cell_type": "code",
   "execution_count": null,
   "id": "b02c1450",
   "metadata": {},
   "outputs": [],
   "source": [
    "# 创建一个形状为(2, 3)的张量，里面的值是均匀分布的随机数\n",
    "random_tensor = torch.rand(2, 3)\n",
    "\n",
    "# 创建一个形状为(2, 3)的张量，里面的值是标准正态分布的随机数\n",
    "normal_tensor = torch.randn(2, 3)\n",
    "\n",
    "print(random_tensor)\n",
    "print(normal_tensor)"
   ]
  },
  {
   "cell_type": "code",
   "execution_count": null,
   "id": "27f3e0f2",
   "metadata": {},
   "outputs": [],
   "source": [
    "# 创建一个形状为(2, 3)的全 0 张量\n",
    "zeros_tensor = torch.zeros(2, 3)\n",
    "\n",
    "# 创建一个形状为(2, 3)的全 1 张量\n",
    "ones_tensor = torch.ones(2, 3)\n",
    "\n",
    "# 创建一个形状为(2, 3)的全 x 张量\n",
    "x = 2.0\n",
    "xs_tensor = torch.full((2, 3), x)\n",
    "\n",
    "\n",
    "print(zeros_tensor)\n",
    "print(ones_tensor)\n",
    "print(xs_tensor)"
   ]
  },
  {
   "cell_type": "code",
   "execution_count": null,
   "id": "34c40f32",
   "metadata": {},
   "outputs": [],
   "source": [
    "# 创建一个2x2的单位矩阵\n",
    "identity_matrix = torch.eye(2)\n",
    "\n",
    "print(identity_matrix)"
   ]
  },
  {
   "cell_type": "code",
   "execution_count": null,
   "id": "fa010551",
   "metadata": {},
   "outputs": [],
   "source": [
    "# 创建一个整型张量\n",
    "int_tensor = torch.tensor([1, 2, 3, 4], dtype=torch.int32)\n",
    "\n",
    "# 创建一个浮点型张量\n",
    "float_tensor = torch.tensor([1.0, 2.0, 3.0, 4.0], dtype=torch.float32)\n",
    "\n",
    "print(int_tensor)\n",
    "print(float_tensor)"
   ]
  },
  {
   "cell_type": "code",
   "execution_count": null,
   "id": "c8d28bc3",
   "metadata": {},
   "outputs": [],
   "source": [
    "# 从现有张量创建一个相同形状但全零的新张量\n",
    "existing_tensor = torch.tensor([1, 2, 3, 4])\n",
    "new_zeros_tensor = torch.zeros_like(existing_tensor)\n",
    "\n",
    "print(new_zeros_tensor)"
   ]
  },
  {
   "cell_type": "code",
   "execution_count": null,
   "id": "423c0434",
   "metadata": {},
   "outputs": [],
   "source": [
    "# 查看张量中元素的数据类型\n",
    "print(new_zeros_tensor.dtype)"
   ]
  },
  {
   "cell_type": "code",
   "execution_count": null,
   "id": "4668e892",
   "metadata": {},
   "outputs": [],
   "source": [
    "a = torch.zeros(10, 2, 3).float()\n",
    "print(a.dtype)"
   ]
  },
  {
   "cell_type": "code",
   "execution_count": null,
   "id": "691157b9",
   "metadata": {},
   "outputs": [],
   "source": [
    "# 查看张量所在设备\n",
    "a.device"
   ]
  },
  {
   "cell_type": "code",
   "execution_count": null,
   "id": "09b33d85",
   "metadata": {},
   "outputs": [],
   "source": [
    "# 确认张量是否在显存上\n",
    "print(a.is_cuda)"
   ]
  },
  {
   "cell_type": "code",
   "execution_count": null,
   "id": "ab42d3ae",
   "metadata": {},
   "outputs": [],
   "source": [
    "# 将张量复制到显存上\n",
    "b = a.cuda()\n",
    "print(b.device)\n",
    "print(b.is_cuda)"
   ]
  },
  {
   "cell_type": "code",
   "execution_count": null,
   "id": "0ff5a6bd",
   "metadata": {},
   "outputs": [],
   "source": [
    "# 将张量复制到内存上\n",
    "c = b.cpu()\n",
    "print(c.device)\n",
    "print(c.is_cuda)"
   ]
  },
  {
   "cell_type": "code",
   "execution_count": null,
   "id": "83e9bdd4",
   "metadata": {},
   "outputs": [],
   "source": [
    "# 张量分块赋值\n",
    "a = torch.zeros([3, 4, 5])\n",
    "print(a)"
   ]
  },
  {
   "cell_type": "code",
   "execution_count": null,
   "id": "af3a3042",
   "metadata": {},
   "outputs": [],
   "source": [
    "a[:, :3, :3] = torch.ones(3, 3)\n",
    "a[:, 3:, :3] = 2\n",
    "a[:, :, 3:] = torch.full((4, 2), 3)\n",
    "print(a)"
   ]
  },
  {
   "cell_type": "code",
   "execution_count": null,
   "id": "974713fb",
   "metadata": {},
   "outputs": [],
   "source": [
    "# 等价代码\n",
    "a = torch.zeros([3, 4, 5])\n",
    "a[:, :3, :3] = torch.ones(3, 3, 3)\n",
    "a[:, 3:, :3] = torch.full((3, 1, 3), 2)\n",
    "a[:, :, 3:] = torch.full((3, 4, 2), 3)\n",
    "print(a)"
   ]
  },
  {
   "cell_type": "code",
   "execution_count": null,
   "id": "75c24996",
   "metadata": {},
   "outputs": [],
   "source": [
    "xyz = np.zeros([10, 3])\n",
    "rgb = np.zeros(xyz.shape, dtype=np.int32)\n",
    "\n",
    "dtype = [('x', 'f4'), ('y', 'f4'), ('z', 'f4'),\n",
    "        ('nx', 'f4'), ('ny', 'f4'), ('nz', 'f4'),\n",
    "        ('red', 'u1'), ('green', 'u1'), ('blue', 'u1')]\n",
    "\n",
    "normals = np.zeros_like(xyz)\n",
    "\n",
    "elements = np.empty(xyz.shape[0], dtype=dtype)\n",
    "attributes = np.concatenate((xyz, normals, rgb), axis=1)\n",
    "elements[:] = list(map(tuple, attributes))\n",
    "\n",
    "print(elements)\n",
    "print(elements.dtype)"
   ]
  },
  {
   "cell_type": "code",
   "execution_count": null,
   "id": "1debbd75",
   "metadata": {},
   "outputs": [],
   "source": [
    "# numpy.concatenate 函数用于沿指定轴连接一系列数组。\n",
    "# 沿行（轴0）连接\n",
    "import numpy as np\n",
    "\n",
    "a = np.array([[1, 2], [3, 4]])\n",
    "b = np.array([[5, 6]])\n",
    "\n",
    "result = np.concatenate((a, b), axis=0)\n",
    "print(result)"
   ]
  },
  {
   "cell_type": "code",
   "execution_count": null,
   "id": "5d53d26a",
   "metadata": {},
   "outputs": [],
   "source": [
    "# 沿列（轴1）连接\n",
    "import numpy as np\n",
    "\n",
    "a = np.array([[1, 2], [3, 4]])\n",
    "b = np.array([[5, 6], [7, 8]])\n",
    "\n",
    "result = np.concatenate((a, b), axis=1)\n",
    "print(result)"
   ]
  },
  {
   "cell_type": "code",
   "execution_count": null,
   "id": "e173d095",
   "metadata": {},
   "outputs": [],
   "source": [
    "# torch.Tensor.permute 函数用于改变张量（Tensor）维度的顺序\n",
    "\n",
    "import torch\n",
    "\n",
    "# 创建一个形状为 (2, 3, 4) 的张量\n",
    "tensor = torch.randn(2, 3, 4)\n",
    "print(\"Original tensor shape:\", tensor.shape)\n",
    "print(\"Original tensor:\\n\", tensor)\n",
    "\n",
    "# 使用 permute 函数改变维度顺序\n",
    "permuted_tensor = tensor.permute(2, 0, 1)\n",
    "print(\"Permuted tensor shape:\", permuted_tensor.shape)\n",
    "print(\"Permuted tensor:\\n\", permuted_tensor)\n"
   ]
  },
  {
   "cell_type": "code",
   "execution_count": null,
   "id": "e1bd0246",
   "metadata": {},
   "outputs": [],
   "source": [
    "# 在PyTorch中，unsqueeze函数用于向张量（tensor）中插入一个大小为1的新维度\n",
    "import torch\n",
    "\n",
    "# 创建一个形状为 (3,) 的一维张量\n",
    "x = torch.tensor([1, 2, 3])\n",
    "print(\"x:\\n\", x)\n",
    "\n",
    "# 在第0个维度插入一个新维度\n",
    "y = x.unsqueeze(0)\n",
    "print(\"y:\\n\", y)\n",
    "\n",
    "# 在第1个维度插入一个新维度\n",
    "z = x.unsqueeze(1)\n",
    "print(\"z:\\n\", z)\n",
    "\n",
    "# 在末尾加入新维度\n",
    "p = x.unsqueeze(-1)\n",
    "print(\"p:\\n\", p)"
   ]
  },
  {
   "cell_type": "code",
   "execution_count": null,
   "id": "f9bb043c",
   "metadata": {},
   "outputs": [],
   "source": [
    "# torch.Tensor.bmm 是 PyTorch 中用于执行批量矩阵乘法的方法。\n",
    "# 它专门用于对三个维度的张量进行操作，其中前两个维度表示一组矩阵，第三维度表示每个矩阵的行和列。\n",
    "# 具体来说，如果你有两个形状分别为 (b, n, m) 和 (b, m, p) 的张量 input 和 mat2，input.bmm(mat2) 将返回一个形状为 (b, n, p) 的张量。\n",
    "# 每个维度 b 表示一个批次，bmm 方法会在每个批次上执行矩阵乘法。\n",
    "# 以下是一个简单的例子来说明其用法：\n",
    "\n",
    "import torch\n",
    "\n",
    "input = torch.randn(2, 2, 3)\n",
    "mat2 = torch.randn(2, 3, 2)\n",
    "\n",
    "# 执行批量矩阵乘法\n",
    "result = input.bmm(mat2)\n",
    "\n",
    "print(\"Input:\")\n",
    "print(input)\n",
    "print(\"\\nMat2:\")\n",
    "print(mat2)\n",
    "print(\"\\nResult:\")\n",
    "print(result)"
   ]
  },
  {
   "cell_type": "code",
   "execution_count": null,
   "id": "cb825a6b",
   "metadata": {},
   "outputs": [],
   "source": [
    "# `[..., None]` is a slicing operation that adds an extra dimension to the tensor.\n",
    "# The ellipsis (`...`) is used to represent as many `:` as needed to make the selection tuple of the same length as the dimension of the tensor.\n",
    "# The `None` is used to insert a new dimension of size 1 at the specified position.\n",
    "\n",
    "x = torch.ones(2, 3)\n",
    "print('x:\\n', x)\n",
    "y = x[...,None]\n",
    "print('y:\\n', y)"
   ]
  },
  {
   "cell_type": "code",
   "execution_count": null,
   "id": "8e36130a",
   "metadata": {},
   "outputs": [],
   "source": [
    "# torch.Tensor.repeat 函数是在 PyTorch 中用于重复一个张量的元素，从而创建一个新的张量。\n",
    "# 它可以沿指定的维度进行重复，生成一个更大的张量。这个函数对于需要在特定模式下扩展张量的场景非常有用。\n",
    "\n",
    "x = torch.tensor([[1, 2], [3, 4], [5, 6]])\n",
    "print('x:\\n', x)\n",
    "y = x.repeat(1, 2)\n",
    "print('y:\\n', y)"
   ]
  },
  {
   "cell_type": "code",
   "execution_count": null,
   "id": "deb677ff",
   "metadata": {},
   "outputs": [],
   "source": [
    "# 切片赋值案例\n",
    "\n",
    "x = torch.zeros(5, 3, 4)\n",
    "y = torch.ones(5, 2)\n",
    "x[:,:2,0] = y\n",
    "print('x:\\n', x)"
   ]
  },
  {
   "cell_type": "code",
   "execution_count": null,
   "id": "944e432e",
   "metadata": {},
   "outputs": [],
   "source": [
    "# tensor.transpose() 方法用于交换张量的两个维度。这个方法会返回一个新的张量，其中指定的两个维度已经被交换位置。\n",
    "\n",
    "x = torch.tensor([[[1, 2], [3, 4], [5, 6]], [[11, 12], [13, 14], [15, 16]], [[21, 22], [23, 24], [25, 26]], [[31, 32], [33, 34], [35, 36]]])\n",
    "y = x.transpose(0, 2)\n",
    "\n",
    "print('x:\\n', x)\n",
    "print('y:\\n', y)"
   ]
  },
  {
   "cell_type": "code",
   "execution_count": null,
   "id": "723ea6a8",
   "metadata": {},
   "outputs": [],
   "source": [
    "# contiguous方法是PyTorch中的一个Tensor方法，用于返回一个连续的内存布局的Tensor。\n",
    "# 当你对一个Tensor进行某些操作（比如转置 transpose 或者视图 view 操作）后，可能会使得这个Tensor在内存中的布局变得不连续。\n",
    "# 如果之后需要对这个不连续的Tensor进行某些必须依赖于连续内存布局的操作（例如通过 .view() 方法改变形状），你需要先将其转换为连续的Tensor。\n",
    "# 创建一个Tensor并进行转置操作，使其内存布局不再连续\n",
    "x = torch.randn(2, 3)\n",
    "y = x.transpose(0, 1)\n",
    "\n",
    "# 检查是否是连续的\n",
    "print(y.is_contiguous())  # 输出: False\n",
    "\n",
    "# 将其转换为连续的Tensor\n",
    "y_contiguous = y.contiguous()\n",
    "\n",
    "# 检查是否是连续的\n",
    "print(y_contiguous.is_contiguous())  # 输出: True"
   ]
  },
  {
   "cell_type": "code",
   "execution_count": null,
   "id": "9aa8b67e",
   "metadata": {},
   "outputs": [],
   "source": [
    "# 可以使用 torch.Tensor 的 [] 算符（即张量索引操作）来筛选出符合某个条件的元素。\n",
    "# 这一般通过布尔索引（boolean indexing）来实现。\n",
    "# 布尔索引意味着你可以用一个布尔张量（由条件表达式生成）来索引另一个张量，结果将是所有布尔值为 True 的元素。\n",
    "# 布尔张量的形状必须与要筛选的张量的形状一致。并且要确保所有的操作都在同一个设备上进行（如 CPU 或 GPU）。\n",
    "# 筛选出的元素会组成一个一维张量\n",
    "\n",
    "import torch\n",
    "\n",
    "# 创建一个示例张量\n",
    "tensor = torch.rand(5, 5)  # 生成一个 5x5 的随机张量，各元素在区间 [0, 1) 内\n",
    "print(\"Original Tensor:\")\n",
    "print(tensor)\n",
    "\n",
    "# 创建一个布尔张量，条件为大于 0.5\n",
    "condition = tensor > 0.5\n",
    "print(\"\\nCondition Tensor (elements > 0.5):\")\n",
    "print(condition)\n",
    "\n",
    "# 使用布尔张量来筛选元素\n",
    "filtered_tensor = tensor[condition]\n",
    "print(\"\\nFiltered Tensor:\")\n",
    "print(filtered_tensor)"
   ]
  },
  {
   "cell_type": "code",
   "execution_count": null,
   "id": "2457ec32",
   "metadata": {},
   "outputs": [],
   "source": []
  },
  {
   "cell_type": "code",
   "execution_count": null,
   "id": "c32ebec3",
   "metadata": {},
   "outputs": [],
   "source": []
  },
  {
   "cell_type": "code",
   "execution_count": null,
   "id": "4cb795db",
   "metadata": {},
   "outputs": [],
   "source": []
  },
  {
   "cell_type": "code",
   "execution_count": null,
   "id": "28b01fd9",
   "metadata": {},
   "outputs": [],
   "source": []
  }
 ],
 "metadata": {
  "kernelspec": {
   "display_name": "Python 3 (ipykernel)",
   "language": "python",
   "name": "python3"
  },
  "language_info": {
   "codemirror_mode": {
    "name": "ipython",
    "version": 3
   },
   "file_extension": ".py",
   "mimetype": "text/x-python",
   "name": "python",
   "nbconvert_exporter": "python",
   "pygments_lexer": "ipython3",
   "version": "3.7.13"
  }
 },
 "nbformat": 4,
 "nbformat_minor": 5
}
